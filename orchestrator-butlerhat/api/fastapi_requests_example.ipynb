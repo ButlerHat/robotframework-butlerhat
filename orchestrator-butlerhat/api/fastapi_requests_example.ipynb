{
 "cells": [
  {
   "cell_type": "markdown",
   "id": "740a2be1",
   "metadata": {},
   "source": [
    "# Interacting with FastAPI Server using Requests"
   ]
  },
  {
   "cell_type": "code",
   "execution_count": 1,
   "id": "4c213881",
   "metadata": {},
   "outputs": [],
   "source": [
    "\n",
    "import requests\n",
    "\n",
    "# Base URL of the FastAPI server\n",
    "# Note: This URL is hypothetical and should be replaced with your actual FastAPI server URL\n",
    "BASE_URL = \"http://api-chrome.paipaya.com\"\n",
    "\n",
    "def create_browser():\n",
    "    \"\"\"Sends a request to create a new browser instance.\"\"\"\n",
    "    response = requests.get(f\"{BASE_URL}/create-browser\")\n",
    "    if response.status_code == 200:\n",
    "        return response.json()\n",
    "    else:\n",
    "        raise Exception(f\"Failed to create browser: {response.status_code}, {response.text}\")\n",
    "\n",
    "def destroy_browser(name):\n",
    "    \"\"\"Sends a request to destroy an existing browser instance.\"\"\"\n",
    "    response = requests.delete(f\"{BASE_URL}/destroy-browser/{name}\")\n",
    "    if response.status_code == 204:\n",
    "        print(\"Browser destroyed successfully.\")\n",
    "    else:\n",
    "        raise Exception(f\"Failed to destroy browser: {response.status_code}, {response.text}\")\n"
   ]
  },
  {
   "cell_type": "code",
   "execution_count": 2,
   "metadata": {},
   "outputs": [
    {
     "name": "stdout",
     "output_type": "stream",
     "text": [
      "Created browser: {'id_': '71d011af-3bc7-432f-a6b9-56c94c63afca', 'playwright_endpoint': 'ws://k8-chrome.paipaya.com/playwright_71d011af-3bc7-432f-a6b9-56c94c63afca/ws', 'novnc_endpoint': 'https://k8-chrome.paipaya.com/novnc_71d011af-3bc7-432f-a6b9-56c94c63afca/vnc.html?path=novnc_71d011af-3bc7-432f-a6b9-56c94c63afca/websockify'}\n"
     ]
    }
   ],
   "source": [
    "browser_instance = create_browser()\n",
    "print(f\"Created browser: {browser_instance}\")"
   ]
  },
  {
   "cell_type": "code",
   "execution_count": 4,
   "metadata": {},
   "outputs": [
    {
     "name": "stdout",
     "output_type": "stream",
     "text": [
      "Browser destroyed successfully.\n"
     ]
    }
   ],
   "source": [
    "destroy_browser(browser_instance['id_'])\n",
    "# destroy_browser('97468d7c-ba4d-4e2b-87b5-3f6cd6ffd96f')"
   ]
  }
 ],
 "metadata": {
  "kernelspec": {
   "display_name": "Python 3",
   "language": "python",
   "name": "python3"
  },
  "language_info": {
   "codemirror_mode": {
    "name": "ipython",
    "version": 3
   },
   "file_extension": ".py",
   "mimetype": "text/x-python",
   "name": "python",
   "nbconvert_exporter": "python",
   "pygments_lexer": "ipython3",
   "version": "3.11.5"
  }
 },
 "nbformat": 4,
 "nbformat_minor": 5
}
